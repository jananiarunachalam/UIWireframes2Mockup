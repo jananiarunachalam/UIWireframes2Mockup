{
 "cells": [
  {
   "cell_type": "code",
   "execution_count": 1,
   "metadata": {},
   "outputs": [
    {
     "name": "stdout",
     "output_type": "stream",
     "text": [
      "Python 3.7.5\r\n"
     ]
    }
   ],
   "source": [
    "!python --version"
   ]
  },
  {
   "cell_type": "code",
   "execution_count": 3,
   "metadata": {
    "scrolled": true
   },
   "outputs": [
    {
     "name": "stdout",
     "output_type": "stream",
     "text": [
      "Collecting torch>=0.4.1\n",
      "\u001b[?25l  Downloading https://files.pythonhosted.org/packages/f9/34/2107f342d4493b7107a600ee16005b2870b5a0a5a165bdf5c5e7168a16a6/torch-1.3.1-cp37-cp37m-manylinux1_x86_64.whl (734.6MB)\n",
      "\u001b[K     |████████████████████████████████| 734.6MB 12kB/s s eta 0:00:01     |████▊                           | 108.1MB 57.7MB/s eta 0:00:11     |█████▎                          | 121.2MB 57.7MB/s eta 0:00:11     |███████▊                        | 177.9MB 63.4MB/s eta 0:00:09     |████████                        | 181.3MB 63.4MB/s eta 0:00:09     |█████████▉                      | 224.5MB 62.3MB/s eta 0:00:09     |██████████████▍                 | 329.7MB 65.5MB/s eta 0:00:07     |███████████████▎                | 350.2MB 65.5MB/s eta 0:00:06     |█████████████████▍              | 398.0MB 45.0MB/s eta 0:00:08��██▎           | 466.6MB 66.9MB/s eta 0:00:05��██▉           | 477.2MB 66.9MB/s eta 0:00:04     |█████████████████████▍          | 491.2MB 66.9MB/s eta 0:00:04███████████████▉          | 501.7MB 66.9MB/s eta 0:00:04 eta 0:00:04:00:04 eta 0:00:046MB 64.5MB/s eta 0:00:04█████████████▏        | 532.0MB 64.5MB/s eta 0:00:04��        | 538.7MB 64.5MB/s eta 0:00:04��        | 545.1MB 64.5MB/s eta 0:00:03��        | 548.7MB 64.5MB/s eta 0:00:03██████████████        | 551.9MB 64.5MB/s eta 0:00:03    | 555.3MB 64.5MB/s eta 0:00:03 eta 0:00:03��██████████████████████▋       | 564.8MB 63.6MB/s eta 0:00:03�███▊       | 568.0MB 63.6MB/s eta 0:00:030:03�██████████       | 575.0MB 63.6MB/s eta 0:00:03�████████████████████▏      | 578.2MB 63.6MB/s eta 0:00:03��█▎      | 581.3MB 63.6MB/s eta 0:00:03��█▌      | 584.7MB 63.6MB/s eta 0:00:030:03███████████████████████▉      | 592.0MB 63.6MB/s eta 0:00:03��██████████      | 595.0MB 63.6MB/s eta 0:00:03597.9MB 63.6MB/s eta 0:00:03████████▎     | 602.5MB 63.6MB/s eta 0:00:03████████████████████▍     | 605.6MB 63.6MB/s eta 0:00:03 0:00:02  | 611.6MB 63.6MB/s eta 0:00:02██████████▊     | 614.6MB 63.6MB/s eta 0:00:02   |███████████████████████████     | 617.7MB 63.6MB/s eta 0:00:02�██████████     | 620.4MB 66.2MB/s eta 0:00:02█████████████████████████▎    | 627.2MB 66.2MB/s eta 0:00:02  | 629.9MB 66.2MB/s eta 0:00:02█████████▋    | 633.4MB 66.2MB/s eta 0:00:02MB/s eta 0:00:02█████████▉    | 638.9MB 66.2MB/s eta 0:00:02██████████████████████████    | 642.9MB 66.2MB/s eta 0:00:02�█████████████████▏   | 645.6MB 66.2MB/s eta 0:00:02ta 0:00:02�███████████▍   | 651.0MB 66.2MB/s eta 0:00:02��████████████████████████▌   | 654.1MB 66.2MB/s eta 0:00:02�█████████████████████▋   | 657.0MB 66.2MB/s eta 0:00:02��████████████████████████▉   | 661.9MB 66.2MB/s eta 0:00:02�██   | 665.1MB 66.2MB/s eta 0:00:0266.2MB/s eta 0:00:02�████████████████████████████▏  | 669.8MB 66.2MB/s eta 0:00:01██████▎  | 672.3MB 3.3MB/s eta 0:00:20MB/s eta 0:00:19��██████████████▌  | 677.6MB 3.3MB/s eta 0:00:18��█████████████████▋  | 680.1MB 3.3MB/s eta 0:00:17�██████████████████████████▊  | 683.2MB 3.3MB/s eta 0:00:16█████████▉  | 685.5MB 3.3MB/s eta 0:00:16███████████████████████████  | 688.8MB 3.3MB/s eta 0:00:15�█▏ | 693.6MB 3.3MB/s eta 0:00:13�█████████████▎ | 696.2MB 3.3MB/s eta 0:00:12████████████████████▍ | 698.7MB 3.3MB/s eta 0:00:12[K     |██████████████████████████████▋ | 701.6MB 3.3MB/s eta 0:00:11██████████████████████████████▋ | 703.8MB 3.3MB/s eta 0:00:10 0:00:0910.8MB 3.3MB/s eta 0:00:08��███████████████████ | 713.0MB 3.3MB/s eta 0:00:07s eta 0:00:06��██████████████████████▎| 717.3MB 3.3MB/s eta 0:00:06��█████████████████████▍| 719.6MB 67.6MB/s eta 0:00:01��| 721.7MB 67.6MB/s eta 0:00:01�██████████▌| 723.8MB 67.6MB/s eta 0:00:01��███████████████▋| 725.9MB 67.6MB/s eta 0:00:01█████████████████████████████▊| 729.1MB 67.6MB/s eta 0:00:01��███████████████▉| 731.5MB 67.6MB/s eta 0:00:01��████████| 734.3MB 67.6MB/s eta 0:00:01\n",
      "\u001b[?25hCollecting torchvision>=0.2.1\n",
      "\u001b[?25l  Downloading https://files.pythonhosted.org/packages/74/ee/d872c12ea508f9cca4cf0d7b91fc5a5e476cec77628a66795ec5a585a67f/torchvision-0.4.2-cp37-cp37m-manylinux1_x86_64.whl (10.2MB)\n",
      "\u001b[K     |████████████████████████████████| 10.2MB 44.4MB/s eta 0:00:01         | 2.8MB 44.4MB/s eta 0:00:01[K     |██████████████████▎             | 5.8MB 44.4MB/s eta 0:00:018.1MB 44.4MB/s eta 0:00:01\n",
      "\u001b[?25hCollecting dominate>=2.3.1\n",
      "  Using cached https://files.pythonhosted.org/packages/1d/64/593e829416c951eb35c2246430d59b86f640087e29e71f32632bcde5d0f7/dominate-2.4.0-py2.py3-none-any.whl\n",
      "Collecting visdom>=0.1.8.3\n",
      "  Using cached https://files.pythonhosted.org/packages/c9/75/e078f5a2e1df7e0d3044749089fc2823e62d029cc027ed8ae5d71fafcbdc/visdom-0.1.8.9.tar.gz\n",
      "Collecting numpy\n",
      "\u001b[?25l  Downloading https://files.pythonhosted.org/packages/9b/af/4fc72f9d38e43b092e91e5b8cb9956d25b2e3ff8c75aed95df5569e4734e/numpy-1.17.4-cp37-cp37m-manylinux1_x86_64.whl (20.0MB)\n",
      "\u001b[K     |████████████████████████████████| 20.0MB 50.6MB/s eta 0:00:01 | 7.0MB 50.6MB/s eta 0:00:01B 50.6MB/s eta 0:00:0150.6MB/s eta 0:00:01██▉        | 14.9MB 50.6MB/s eta 0:00:01��█████████▊     | 16.7MB 50.6MB/s eta 0:00:01:01\n",
      "\u001b[?25hCollecting pillow>=4.1.1\n",
      "\u001b[?25l  Downloading https://files.pythonhosted.org/packages/89/3e/31c2e5385d7588016c6f7ac552e81c3fff2bef4bc61b6f82f8177752405c/Pillow-6.2.1-cp37-cp37m-manylinux1_x86_64.whl (2.1MB)\n",
      "\u001b[K     |████████████████████████████████| 2.1MB 38.7MB/s eta 0:00:01\n",
      "\u001b[?25hCollecting six\n",
      "  Downloading https://files.pythonhosted.org/packages/65/26/32b8464df2a97e6dd1b656ed26b2c194606c16fe163c695a992b36c11cdf/six-1.13.0-py2.py3-none-any.whl\n",
      "Collecting scipy\n",
      "\u001b[?25l  Downloading https://files.pythonhosted.org/packages/f2/18/f788042dc7a73d0176e073909c00a6765c953986cae6d8cc13782a4bcd05/scipy-1.3.3-cp37-cp37m-manylinux1_x86_64.whl (25.2MB)\n",
      "\u001b[K     |████████████████████████████████| 25.2MB 39.8MB/s eta 0:00:01██████▊                   | 10.0MB 39.8MB/s eta 0:00:01  |████████████████▋               | 13.1MB 39.8MB/s eta 0:00:01       | 15.5MB 39.8MB/s eta 0:00:01████████         | 18.1MB 39.8MB/s eta 0:00:01�██████████▍      | 20.0MB 39.8MB/s eta 0:00:01�█████████▉    | 21.9MB 39.8MB/s eta 0:00:01�███████████████████████████▋| 24.9MB 39.8MB/s eta 0:00:01\n",
      "\u001b[?25hCollecting requests\n",
      "\u001b[?25l  Downloading https://files.pythonhosted.org/packages/51/bd/23c926cd341ea6b7dd0b2a00aba99ae0f828be89d72b2190f27c11d4b7fb/requests-2.22.0-py2.py3-none-any.whl (57kB)\n",
      "\u001b[K     |████████████████████████████████| 61kB 9.3MB/s  eta 0:00:01\n",
      "\u001b[?25hCollecting tornado\n",
      "\u001b[?25l  Downloading https://files.pythonhosted.org/packages/30/78/2d2823598496127b21423baffaa186b668f73cd91887fcef78b6eade136b/tornado-6.0.3.tar.gz (482kB)\n",
      "\u001b[K     |████████████████████████████████| 491kB 42.9MB/s eta 0:00:01\n",
      "\u001b[?25hCollecting pyzmq\n",
      "\u001b[?25l  Downloading https://files.pythonhosted.org/packages/bf/dd/547bee2080beefe6546c332422cb0f189b3cd71cfff048146cd9ac3751cc/pyzmq-18.1.1-cp37-cp37m-manylinux1_x86_64.whl (1.1MB)\n",
      "\u001b[K     |████████████████████████████████| 1.1MB 38.7MB/s eta 0:00:01                       | 245kB 38.7MB/s eta 0:00:01\n",
      "\u001b[?25hCollecting jsonpatch\n",
      "  Using cached https://files.pythonhosted.org/packages/86/7e/035d19a73306278673039f0805b863be8798057cc1b4008b9c8c7d1d32a3/jsonpatch-1.24-py2.py3-none-any.whl\n",
      "Collecting torchfile\n",
      "  Using cached https://files.pythonhosted.org/packages/91/af/5b305f86f2d218091af657ddb53f984ecbd9518ca9fe8ef4103a007252c9/torchfile-0.1.0.tar.gz\n",
      "Collecting websocket-client\n",
      "  Using cached https://files.pythonhosted.org/packages/29/19/44753eab1fdb50770ac69605527e8859468f3c0fd7dc5a76dd9c4dbd7906/websocket_client-0.56.0-py2.py3-none-any.whl\n",
      "Collecting urllib3!=1.25.0,!=1.25.1,<1.26,>=1.21.1\n",
      "\u001b[?25l  Downloading https://files.pythonhosted.org/packages/b4/40/a9837291310ee1ccc242ceb6ebfd9eb21539649f193a7c8c86ba15b98539/urllib3-1.25.7-py2.py3-none-any.whl (125kB)\n",
      "\u001b[K     |████████████████████████████████| 133kB 45.5MB/s eta 0:00:01\n",
      "\u001b[?25hCollecting idna<2.9,>=2.5\n",
      "\u001b[?25l  Downloading https://files.pythonhosted.org/packages/14/2c/cd551d81dbe15200be1cf41cd03869a46fe7226e7450af7a6545bfc474c9/idna-2.8-py2.py3-none-any.whl (58kB)\n",
      "\u001b[K     |████████████████████████████████| 61kB 10.5MB/s eta 0:00:01\n",
      "\u001b[?25hCollecting chardet<3.1.0,>=3.0.2\n",
      "\u001b[?25l  Downloading https://files.pythonhosted.org/packages/bc/a9/01ffebfb562e4274b6487b4bb1ddec7ca55ec7510b22e4c51f14098443b8/chardet-3.0.4-py2.py3-none-any.whl (133kB)\n"
     ]
    },
    {
     "name": "stdout",
     "output_type": "stream",
     "text": [
      "\u001b[K     |████████████████████████████████| 143kB 47.7MB/s eta 0:00:01\n",
      "\u001b[?25hRequirement already satisfied: certifi>=2017.4.17 in /home/sameer/anaconda3/envs/pix2pix/lib/python3.7/site-packages (from requests->visdom>=0.1.8.3->-r requirements.txt (line 4)) (2019.9.11)\n",
      "Collecting jsonpointer>=1.9\n",
      "  Using cached https://files.pythonhosted.org/packages/18/b0/a80d29577c08eea401659254dfaed87f1af45272899e1812d7e01b679bc5/jsonpointer-2.0-py2.py3-none-any.whl\n",
      "Building wheels for collected packages: visdom, tornado, torchfile\n",
      "  Building wheel for visdom (setup.py) ... \u001b[?25ldone\n",
      "\u001b[?25h  Created wheel for visdom: filename=visdom-0.1.8.9-cp37-none-any.whl size=655252 sha256=9a587ee9c5ba9c1063038a842536c0ac7e04c310e44099bc3354b77f2eab5725\n",
      "  Stored in directory: /home/sameer/.cache/pip/wheels/70/19/a7/6d589ed967f4dfefd33bc166d081257bd4ed0cb618dccfd62a\n",
      "  Building wheel for tornado (setup.py) ... \u001b[?25ldone\n",
      "\u001b[?25h  Created wheel for tornado: filename=tornado-6.0.3-cp37-cp37m-linux_x86_64.whl size=418567 sha256=ac5af4591a339b2b963b5419e35b3776a446ed595c1161990bf098b6394d803e\n",
      "  Stored in directory: /home/sameer/.cache/pip/wheels/84/bf/40/2f6ef700f48401ca40e5e3dd7d0e3c0a90e064897b7fe5fc08\n",
      "  Building wheel for torchfile (setup.py) ... \u001b[?25ldone\n",
      "\u001b[?25h  Created wheel for torchfile: filename=torchfile-0.1.0-cp37-none-any.whl size=5712 sha256=851b2e483771d10f25a7edbee30c39e28881e80b37425361f8c1f3836c3f85ff\n",
      "  Stored in directory: /home/sameer/.cache/pip/wheels/b1/c3/d6/9a1cc8f3a99a0fc1124cae20153f36af59a6e683daca0a0814\n",
      "Successfully built visdom tornado torchfile\n",
      "Installing collected packages: numpy, torch, pillow, six, torchvision, dominate, scipy, urllib3, idna, chardet, requests, tornado, pyzmq, jsonpointer, jsonpatch, torchfile, websocket-client, visdom\n",
      "Successfully installed chardet-3.0.4 dominate-2.4.0 idna-2.8 jsonpatch-1.24 jsonpointer-2.0 numpy-1.17.4 pillow-6.2.1 pyzmq-18.1.1 requests-2.22.0 scipy-1.3.3 six-1.13.0 torch-1.3.1 torchfile-0.1.0 torchvision-0.4.2 tornado-6.0.3 urllib3-1.25.7 visdom-0.1.8.9 websocket-client-0.56.0\n"
     ]
    }
   ],
   "source": [
    "!pip install -r requirements.txt"
   ]
  },
  {
   "cell_type": "code",
   "execution_count": null,
   "metadata": {
    "scrolled": false
   },
   "outputs": [
    {
     "name": "stdout",
     "output_type": "stream",
     "text": [
      "----------------- Options ---------------\n",
      "               batch_size: 1                             \n",
      "                    beta1: 0.5                           \n",
      "          checkpoints_dir: ./checkpoints                 \n",
      "           continue_train: True                          \t[default: False]\n",
      "                crop_size: 256                           \n",
      "                 dataroot: datasets/wire2mockupmain      \t[default: None]\n",
      "             dataset_mode: unaligned                     \n",
      "                direction: AtoB                          \n",
      "              display_env: main                          \n",
      "             display_freq: 400                           \n",
      "               display_id: 1                             \n",
      "            display_ncols: 4                             \n",
      "             display_port: 8091                          \t[default: 8097]\n",
      "           display_server: http://localhost              \n",
      "          display_winsize: 256                           \n",
      "                    epoch: latest                        \n",
      "              epoch_count: 65                            \t[default: 1]\n",
      "                 gan_mode: lsgan                         \n",
      "                  gpu_ids: 0                             \n",
      "                init_gain: 0.02                          \n",
      "                init_type: normal                        \n",
      "                 input_nc: 3                             \n",
      "                  isTrain: True                          \t[default: None]\n",
      "                 lambda_A: 10.0                          \n",
      "                 lambda_B: 10.0                          \n",
      "          lambda_identity: 0.5                           \n",
      "                load_iter: 0                             \t[default: 0]\n",
      "                load_size: 286                           \n",
      "                       lr: 0.0002                        \n",
      "           lr_decay_iters: 50                            \n",
      "                lr_policy: linear                        \n",
      "         max_dataset_size: inf                           \n",
      "                    model: cycle_gan                     \n",
      "               n_layers_D: 3                             \n",
      "                     name: wire2mockupmain               \t[default: experiment_name]\n",
      "                      ndf: 64                            \n",
      "                     netD: basic                         \n",
      "                     netG: resnet_9blocks                \n",
      "                      ngf: 64                            \n",
      "                    niter: 100                           \n",
      "              niter_decay: 100                           \n",
      "               no_dropout: True                          \n",
      "                  no_flip: False                         \n",
      "                  no_html: False                         \n",
      "                     norm: instance                      \n",
      "              num_threads: 4                             \n",
      "                output_nc: 3                             \n",
      "                    phase: train                         \n",
      "                pool_size: 50                            \n",
      "               preprocess: resize_and_crop               \n",
      "               print_freq: 100                           \n",
      "             save_by_iter: False                         \n",
      "          save_epoch_freq: 5                             \n",
      "         save_latest_freq: 5000                          \n",
      "           serial_batches: False                         \n",
      "                   suffix:                               \n",
      "         update_html_freq: 1000                          \n",
      "                  verbose: False                         \n",
      "----------------- End -------------------\n",
      "dataset [UnalignedDataset] was created\n",
      "The number of training images = 300\n",
      "initialize network with normal\n",
      "initialize network with normal\n",
      "initialize network with normal\n",
      "initialize network with normal\n",
      "model [CycleGANModel] was created\n",
      "loading the model from ./checkpoints/wire2mockupmain/latest_net_G_A.pth\n",
      "loading the model from ./checkpoints/wire2mockupmain/latest_net_G_B.pth\n",
      "loading the model from ./checkpoints/wire2mockupmain/latest_net_D_A.pth\n",
      "loading the model from ./checkpoints/wire2mockupmain/latest_net_D_B.pth\n",
      "---------- Networks initialized -------------\n",
      "[Network G_A] Total number of parameters : 11.378 M\n",
      "[Network G_B] Total number of parameters : 11.378 M\n",
      "[Network D_A] Total number of parameters : 2.765 M\n",
      "[Network D_B] Total number of parameters : 2.765 M\n",
      "-----------------------------------------------\n",
      "Setting up a new session...\n",
      "create web directory ./checkpoints/wire2mockupmain/web...\n",
      "(epoch: 65, iters: 100, time: 1.270, data: 0.221) D_A: 0.211 G_A: 1.504 cycle_A: 0.536 idt_A: 0.103 D_B: 0.015 G_B: 0.327 cycle_B: 0.273 idt_B: 0.172 \n",
      "(epoch: 65, iters: 200, time: 1.270, data: 0.002) D_A: 0.064 G_A: 1.228 cycle_A: 0.527 idt_A: 0.048 D_B: 0.061 G_B: 1.158 cycle_B: 0.158 idt_B: 0.177 \n",
      "(epoch: 65, iters: 300, time: 1.270, data: 0.002) D_A: 0.062 G_A: 0.977 cycle_A: 0.258 idt_A: 0.030 D_B: 0.016 G_B: 0.199 cycle_B: 0.106 idt_B: 0.084 \n",
      "saving the model at the end of epoch 65, iters 300\n",
      "End of epoch 65 / 200 \t Time Taken: 386 sec\n",
      "learning rate = 0.0002000\n",
      "(epoch: 66, iters: 100, time: 1.958, data: 0.218) D_A: 0.053 G_A: 0.689 cycle_A: 0.599 idt_A: 0.076 D_B: 0.031 G_B: 0.790 cycle_B: 0.232 idt_B: 0.169 \n",
      "(epoch: 66, iters: 200, time: 1.276, data: 0.002) D_A: 0.205 G_A: 0.607 cycle_A: 0.342 idt_A: 0.084 D_B: 0.040 G_B: 0.479 cycle_B: 0.189 idt_B: 0.089 \n",
      "(epoch: 66, iters: 300, time: 1.273, data: 0.002) D_A: 0.050 G_A: 0.997 cycle_A: 0.451 idt_A: 0.087 D_B: 0.094 G_B: 1.173 cycle_B: 0.219 idt_B: 0.166 \n",
      "End of epoch 66 / 200 \t Time Taken: 382 sec\n",
      "learning rate = 0.0002000\n",
      "(epoch: 67, iters: 100, time: 1.281, data: 0.237) D_A: 0.030 G_A: 1.243 cycle_A: 0.421 idt_A: 0.084 D_B: 0.057 G_B: 0.227 cycle_B: 0.254 idt_B: 0.135 \n"
     ]
    }
   ],
   "source": [
    "!python train.py --dataroot datasets/wire2mockupmain --name wire2mockupmain --model cycle_gan --display_port 8091 --norm instance --continue_train --epoch_count 65"
   ]
  },
  {
   "cell_type": "code",
   "execution_count": null,
   "metadata": {
    "collapsed": true
   },
   "outputs": [],
   "source": []
  }
 ],
 "metadata": {
  "kernelspec": {
   "display_name": "Python 3",
   "language": "python",
   "name": "python3"
  },
  "language_info": {
   "codemirror_mode": {
    "name": "ipython",
    "version": 3
   },
   "file_extension": ".py",
   "mimetype": "text/x-python",
   "name": "python",
   "nbconvert_exporter": "python",
   "pygments_lexer": "ipython3",
   "version": "3.5.4"
  }
 },
 "nbformat": 4,
 "nbformat_minor": 1
}
